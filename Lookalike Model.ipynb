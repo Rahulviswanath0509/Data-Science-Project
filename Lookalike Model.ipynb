{
  "nbformat": 4,
  "nbformat_minor": 0,
  "metadata": {
    "colab": {
      "provenance": []
    },
    "kernelspec": {
      "name": "python3",
      "display_name": "Python 3"
    },
    "language_info": {
      "name": "python"
    }
  },
  "cells": [
    {
      "cell_type": "code",
      "source": [
        "#Lookalike Model\n",
        "import pandas as pd\n",
        "import numpy as np\n",
        "import matplotlib.pyplot as plt\n",
        "import seaborn as sns\n",
        "from sklearn.metrics.pairwise import cosine_similarity\n",
        "from sklearn.preprocessing import StandardScaler\n",
        "\n",
        "customers = pd.read_csv(\"Customers.csv\")\n",
        "products = pd.read_csv(\"Products.csv\")\n",
        "transactions = pd.read_csv(\"Transactions.csv\")\n",
        "\n",
        "data = pd.merge(transactions, customers, on=\"CustomerID\")\n",
        "data = pd.merge(data, products, on=\"ProductID\")\n",
        "\n",
        "customer_product_matrix = data.pivot_table(index='CustomerID', columns='ProductName', values='Quantity', aggfunc='sum', fill_value=0)\n",
        "\n",
        "scaler = StandardScaler()\n",
        "normalized_matrix = scaler.fit_transform(customer_product_matrix)\n",
        "\n",
        "similarity_matrix = cosine_similarity(normalized_matrix)\n",
        "similarity_df = pd.DataFrame(similarity_matrix, index=customer_product_matrix.index, columns=customer_product_matrix.index)\n",
        "\n",
        "lookalike_results = {}\n",
        "for customer_id in similarity_df.index:\n",
        "    similar_customers = similarity_df[customer_id].sort_values(ascending=False).iloc[1:4]\n",
        "    lookalike_results[customer_id] = list(zip(similar_customers.index[:3], similar_customers.values[:3]))\n",
        "\n",
        "lookalike_output = {cust_id: lookalike_results.get(cust_id, []) for cust_id in similarity_df.index if cust_id in [f'C{i:04d}' for i in range(1, 21)]}\n",
        "lookalike_df = pd.DataFrame([{\"CustomerID\": key, \"Lookalikes\": value} for key, value in lookalike_output.items()])\n",
        "\n",
        "lookalike_df.to_csv(\"Lookalike.csv\", index=False)\n",
        "\n",
        "print(lookalike_df.head(3))\n"
      ],
      "metadata": {
        "colab": {
          "base_uri": "https://localhost:8080/"
        },
        "id": "CF86Udo6McNG",
        "outputId": "3d3fb3c5-8a58-4bc1-cd43-df0d0e487b47"
      },
      "execution_count": 18,
      "outputs": [
        {
          "output_type": "stream",
          "name": "stdout",
          "text": [
            "  CustomerID                                         Lookalikes\n",
            "0      C0001  [(C0050, 0.510312355400559), (C0121, 0.4592921...\n",
            "1      C0002  [(C0030, 0.6735706674412992), (C0173, 0.437667...\n",
            "2      C0003  [(C0164, 0.6643842648093717), (C0144, 0.617294...\n"
          ]
        }
      ]
    }
  ]
}